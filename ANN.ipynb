{
 "cells": [
  {
   "attachments": {},
   "cell_type": "markdown",
   "metadata": {},
   "source": [
    "Artificial Neural Network "
   ]
  },
  {
   "cell_type": "code",
   "execution_count": 1,
   "metadata": {},
   "outputs": [],
   "source": [
    "import numpy as np\n",
    "import pandas as pd # data processing, CSV file"
   ]
  },
  {
   "cell_type": "code",
   "execution_count": 12,
   "metadata": {},
   "outputs": [
    {
     "data": {
      "text/plain": [
       "array([[0, 1, 0],\n",
       "       [0, 0, 1],\n",
       "       [1, 0, 0],\n",
       "       [1, 1, 0],\n",
       "       [1, 1, 1],\n",
       "       [0, 1, 1],\n",
       "       [0, 1, 0]])"
      ]
     },
     "execution_count": 12,
     "metadata": {},
     "output_type": "execute_result"
    }
   ],
   "source": [
    "input= np.array([[0,1,0],\n",
    "                 [0,0,1],\n",
    "                 [1,0,0],\n",
    "                 [1,1,0],\n",
    "                 [1,1,1],\n",
    "                 [0,1,1],\n",
    "                 [0,1,0]])\n",
    "input"
   ]
  },
  {
   "cell_type": "code",
   "execution_count": 14,
   "metadata": {},
   "outputs": [
    {
     "data": {
      "text/plain": [
       "array([[1],\n",
       "       [0],\n",
       "       [0],\n",
       "       [1],\n",
       "       [1],\n",
       "       [0],\n",
       "       [1]])"
      ]
     },
     "execution_count": 14,
     "metadata": {},
     "output_type": "execute_result"
    }
   ],
   "source": [
    "dp = np.array([[1,\n",
    "               0,\n",
    "               0,\n",
    "               1,\n",
    "               1,\n",
    "               0,\n",
    "               1]])\n",
    "\n",
    "dp = dp.reshape(7,1) #lebels to vector\n",
    "dp # data to predict\n"
   ]
  },
  {
   "cell_type": "code",
   "execution_count": 15,
   "metadata": {},
   "outputs": [],
   "source": [
    "np.random.seed(42) #for random number generator\n",
    "\n",
    "weights = np.random.rand(3,1) #random weights\n",
    "\n",
    "\n",
    "\n",
    "bias = np.random.rand(1) #random bias\n",
    "\n",
    "lr = 0.05 #learning rate(random 0.5)\n"
   ]
  },
  {
   "cell_type": "code",
   "execution_count": 16,
   "metadata": {},
   "outputs": [],
   "source": [
    "#creating activation function\n",
    "#sigmoid function\n",
    "\n",
    "\n",
    "def sigmoid_function(x):\n",
    "    return 1/(1+np.exp(-x))\n",
    "\n",
    "#derivative\n",
    "def sigmoid_derivative(x):\n",
    "    return ((sigmoid_function(x)) * (1-sigmoid_function(x)))"
   ]
  },
  {
   "cell_type": "code",
   "execution_count": null,
   "metadata": {},
   "outputs": [],
   "source": [
    "#training\n",
    "\n",
    "for ep in range(100000):\n",
    "    data = input\n",
    "    X = np.dot(data,weights) + (bias)\n",
    "    Y = sigmoid_function(X)\n",
    "    error = dp - Y\n",
    "    print(error.sum())\n",
    "    d_cost = error\n",
    "    d_pred = sigmoid_derivative(Y)\n",
    "    Z = d_cost * d_pred\n",
    "    inputs = data.T\n",
    "    weights = (weights -lr * np.dot(inputs,Z))\n",
    "\n",
    "\n",
    "##cleared cell output\n"
   ]
  },
  {
   "cell_type": "code",
   "execution_count": 20,
   "metadata": {},
   "outputs": [],
   "source": [
    "inputs = input\n"
   ]
  },
  {
   "cell_type": "code",
   "execution_count": 21,
   "metadata": {},
   "outputs": [],
   "source": [
    "#feed forward\n",
    "X = np.dot(inputs,weights) + (bias)"
   ]
  },
  {
   "cell_type": "code",
   "execution_count": 24,
   "metadata": {},
   "outputs": [],
   "source": [
    "Z = sigmoid_function(X)\n"
   ]
  },
  {
   "cell_type": "code",
   "execution_count": 27,
   "metadata": {},
   "outputs": [
    {
     "name": "stdout",
     "output_type": "stream",
     "text": [
      "3.0\n"
     ]
    }
   ],
   "source": [
    "error = Z - dp\n",
    "\n",
    "\n",
    "\n",
    "print(error.sum())\n"
   ]
  },
  {
   "cell_type": "code",
   "execution_count": 28,
   "metadata": {},
   "outputs": [],
   "source": [
    "dcost = error\n",
    "\n",
    "dpred = sigmoid_derivative(Z)\n",
    "\n",
    "\n",
    "Z = dcost * dpred\n",
    "\n",
    "\n",
    "inputs = input.T\n",
    "weights = weights - lr * np.dot(inputs,Z)"
   ]
  },
  {
   "cell_type": "code",
   "execution_count": 30,
   "metadata": {},
   "outputs": [
    {
     "name": "stdout",
     "output_type": "stream",
     "text": [
      "[0.56916669]\n",
      "[0.5593361]\n",
      "[0.5495055]\n",
      "[0.5495055]\n",
      "[0.5495055]\n",
      "[0.5396749]\n",
      "[0.5396749]\n"
     ]
    }
   ],
   "source": [
    "for num in Z:\n",
    "    bias = bias - lr*num\n",
    "    print(bias)"
   ]
  },
  {
   "cell_type": "code",
   "execution_count": 34,
   "metadata": {},
   "outputs": [
    {
     "name": "stdout",
     "output_type": "stream",
     "text": [
      "[1.]\n",
      "[0.63173679]\n"
     ]
    }
   ],
   "source": [
    "pt1 = np.array([1,0,0])\n",
    "results = sigmoid_function(np.dot(pt1,weights) + bias)\n",
    "print(results)\n",
    "pt1 = np.array([0,0,0])\n",
    "results = sigmoid_function(np.dot(pt1,weights) + bias)\n",
    "print(results)"
   ]
  },
  {
   "cell_type": "code",
   "execution_count": null,
   "metadata": {},
   "outputs": [],
   "source": []
  }
 ],
 "metadata": {
  "kernelspec": {
   "display_name": "base",
   "language": "python",
   "name": "python3"
  },
  "language_info": {
   "codemirror_mode": {
    "name": "ipython",
    "version": 3
   },
   "file_extension": ".py",
   "mimetype": "text/x-python",
   "name": "python",
   "nbconvert_exporter": "python",
   "pygments_lexer": "ipython3",
   "version": "3.9.12"
  },
  "orig_nbformat": 4,
  "vscode": {
   "interpreter": {
    "hash": "ad2bdc8ecc057115af97d19610ffacc2b4e99fae6737bb82f5d7fb13d2f2c186"
   }
  }
 },
 "nbformat": 4,
 "nbformat_minor": 2
}
